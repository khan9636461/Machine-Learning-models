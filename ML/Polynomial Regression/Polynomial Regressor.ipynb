{
 "cells": [
  {
   "cell_type": "code",
   "execution_count": 1,
   "metadata": {},
   "outputs": [],
   "source": [
    "import numpy as np\n",
    "import pandas as pd\n",
    "import matplotlib.pyplot as plt"
   ]
  },
  {
   "cell_type": "markdown",
   "metadata": {},
   "source": [
    "# Implementing Polynomial Regression Model"
   ]
  },
  {
   "cell_type": "code",
   "execution_count": 2,
   "metadata": {},
   "outputs": [],
   "source": [
    "class PolynomialRegression():\n",
    "    def __init__(self, lr = 0.001, epochs = 1000, degree = 2):\n",
    "        self.lr = lr\n",
    "        self.epochs = epochs\n",
    "        self.degree = degree\n",
    "        self.weights = None\n",
    "        self.bias = None\n",
    "        \n",
    "    def _generate_polynomial_features(self,X):\n",
    "        X = X.reshape(X.shape[0],1)\n",
    "        X_poly = X.reshape(X.shape[0],1)\n",
    "        for deg in range(2, self.degree+1):\n",
    "            X_poly = np.concatenate((X_poly, X**deg), axis = 1)\n",
    "        return X_poly\n",
    "    \n",
    "    def fit(self, X, y):\n",
    "        X_poly = self._generate_polynomial_features(X)\n",
    "        n_samples, n_features = X_poly.shape\n",
    "        self.weights = np.zeros(n_features)\n",
    "        self.bias = 0\n",
    "        cost = []\n",
    "        it = []\n",
    "        \n",
    "        for i in range(self.epochs):\n",
    "            y_pred = np.dot(X_poly,self.weights) + self.bias\n",
    "            cost.append(np.sum((y_pred - y)**2)/n_samples)\n",
    "            it.append(i+1)\n",
    "            dw = (1 / n_samples) * np.dot(X_poly.T, (y_pred.T - y))\n",
    "            db = np.sum(y_pred.T - y) / n_samples\n",
    "            \n",
    "            self.weights = self.weights - (self.lr * dw)\n",
    "            self.bias = self.bias - (self.lr * db)\n",
    "            \n",
    "            plt.plot(it,cost,color = 'r')\n",
    "    def predict(self,X):\n",
    "        X_poly = self._generate_polynomial_features(X)\n",
    "        \n",
    "        y_pred = np.dot(X_poly, self.weights) + self.bias\n",
    "        return y_pred"
   ]
  },
  {
   "cell_type": "code",
   "execution_count": 3,
   "metadata": {},
   "outputs": [
    {
     "data": {
      "text/plain": [
       "<matplotlib.collections.PathCollection at 0x240d07d5370>"
      ]
     },
     "execution_count": 3,
     "metadata": {},
     "output_type": "execute_result"
    },
    {
     "data": {
      "image/png": "[encoded data removed]",
      "text/plain": [
       "<Figure size 432x288 with 1 Axes>"
      ]
     },
     "metadata": {
      "needs_background": "light"
     },
     "output_type": "display_data"
    }
   ],
   "source": [
    "# dataset = pd.read_csv('Position_Salaries.csv')\n",
    "# X = dataset.iloc[:, 1:2].values\n",
    "# y = dataset.iloc[:, -1].values\n",
    "X = 6 * np.random.rand(100,1) - 3\n",
    "y = (0.5 * X**2 + 1.5*X + 2 + np.random.rand(100,1))\n",
    "y = y[:,0]\n",
    "plt.scatter(X,y,color = 'g')"
   ]
  },
  {
   "cell_type": "markdown",
   "metadata": {},
   "source": [
    "# Fitting Polynomial Regression model to the dataset"
   ]
  },
  {
   "cell_type": "code",
   "execution_count": 4,
   "metadata": {},
   "outputs": [
    {
     "name": "stdout",
     "output_type": "stream",
     "text": [
      "Y pred\n",
      " [ 1.74357852  1.49119909  3.03855407  9.76352778  1.608516    1.5076574\n",
      "  1.84983592  1.48782775  5.45027584 11.11295904  3.14440239  8.73745204\n",
      "  5.17772062  9.68708142  1.49742792  2.24920877  2.29249136  3.74519593\n",
      "  2.02086239  8.67813541  1.62304212  2.91953731  1.53332636  4.61422355\n",
      "  2.89738761  2.34466174  1.68822145 11.1759009   5.04964899  2.34099754\n",
      "  2.41000434  1.57559507  2.09251315  1.99942121  1.78346256 10.91790202\n",
      "  1.87043903  1.56550336  2.3661912   1.49150263  1.55005597  9.74015929\n",
      "  2.19586845  3.42631054  3.6317084   2.04344086  1.51594198  2.6466011\n",
      "  2.42155939  1.75222602  2.05770256  4.96148917  6.90318636  3.19683253\n",
      "  2.63626881  3.63175103  1.77610512 10.30419158  2.34312097  2.79297615\n",
      "  2.1495301   1.67412011  1.49300447  1.48793362  2.15290575  3.69011073\n",
      "  2.0425571   3.19306297  5.32149978  1.52030611  5.50761354  3.43869962\n",
      "  6.48492223 11.10567079  6.08508319  9.90223365  6.44057837  9.15131212\n",
      "  5.65765638  1.54733225 10.43386871  1.66168799  1.75556267  2.35522797\n",
      "  1.59313844  6.25248393  9.01049104  7.18802436  2.50600322  1.59178479\n",
      "  7.02801882  6.20273709  2.55971629  8.41366379  6.94504511  2.17434825\n",
      " 10.49765847  2.7179518   6.48532169  1.60783069] \n",
      " Y \n",
      " [ 1.57025319  1.81380623  3.3781482   9.87587794  1.71563966  1.87190726\n",
      "  1.58301322  1.34486807  5.86034441 10.75197164  3.05131564  8.29911759\n",
      "  5.2320848  10.15998354  1.30629817  2.15860678  2.57721153  3.45693628\n",
      "  1.87826547  8.43975551  1.8607949   2.56646178  1.54585679  4.55153022\n",
      "  2.9547783   2.33999668  1.74244967 11.37013494  4.81491555  2.42964921\n",
      "  2.16501701  1.92151119  2.04426878  2.29131076  2.10611015 11.03781202\n",
      "  2.15986672  1.38914495  2.39837577  1.73008201  1.46868488 10.00797773\n",
      "  1.70597763  3.61247324  3.31735879  1.88472417  1.05984699  2.4741045\n",
      "  2.06897425  1.84039613  2.35484919  5.11089904  6.48781222  3.58076284\n",
      "  2.93826081  3.25197911  2.07866139 10.44036724  2.43595188  2.44847763\n",
      "  1.87489646  1.32025339  1.22402361  1.61804649  2.29059442  4.04510372\n",
      "  2.0111704   3.52929746  5.03453387  1.73245539  5.67126275  2.95842185\n",
      "  6.60878049 11.06285782  6.07345729  9.8842207   6.02514615  9.36389992\n",
      "  5.66185599  1.02157295 10.05427501  1.63833535  1.90331191  2.53403585\n",
      "  1.8003557   6.3957324   9.35683497  7.4091403   2.36325052  1.69421914\n",
      "  6.56729735  6.62419884  2.4149988   8.89155382  6.53104102  2.41098095\n",
      " 10.44850252  2.62846454  6.3232332   1.78196044]\n"
     ]
    },
    {
     "data": {
      "image/png": "[encoded data removed]",
      "text/plain": [
       "<Figure size 432x288 with 1 Axes>"
      ]
     },
     "metadata": {
      "needs_background": "light"
     },
     "output_type": "display_data"
    }
   ],
   "source": [
    "poly_regressor = PolynomialRegression(lr = 0.1,epochs = 1000,degree = 2)\n",
    "poly_regressor.fit(X,y)\n",
    "y_pred = poly_regressor.predict(X)\n",
    "cost = 1/ X.shape[0] * (np.sum(np.power((y_pred-y),2)))\n",
    "print('Y pred\\n',y_pred,'\\n Y \\n',y)\n"
   ]
  },
  {
   "cell_type": "markdown",
   "metadata": {},
   "source": [
    "# Visualizing the Training Result"
   ]
  },
  {
   "cell_type": "code",
   "execution_count": null,
   "metadata": {},
   "outputs": [],
   "source": [
    "# Sort the data for proper plotting\n",
    "sorted_indices = np.argsort(X.flatten())\n",
    "X_sorted = X.flatten()[sorted_indices]\n",
    "y_pred_sorted = y_pred[sorted_indices]\n",
    "\n",
    "plt.scatter(X, y, color = 'red')\n",
    "plt.plot(X_sorted,y_pred_sorted, color = 'b')\n",
    "plt.title('Truth or Bluff (Polynomial Regression)')\n",
    "plt.xlabel('Position Lavel')\n",
    "plt.ylabel('Salary')\n",
    "plt.show()\n"
   ]
  },
  {
   "cell_type": "code",
   "execution_count": null,
   "metadata": {},
   "outputs": [],
   "source": []
  }
 ],
 "metadata": {
  "kernelspec": {
   "display_name": "Python 3",
   "language": "python",
   "name": "python3"
  },
  "language_info": {
   "codemirror_mode": {
    "name": "ipython",
    "version": 3
   },
   "file_extension": ".py",
   "mimetype": "text/x-python",
   "name": "python",
   "nbconvert_exporter": "python",
   "pygments_lexer": "ipython3",
   "version": "3.8.5"
  }
 },
 "nbformat": 4,
 "nbformat_minor": 4
}
